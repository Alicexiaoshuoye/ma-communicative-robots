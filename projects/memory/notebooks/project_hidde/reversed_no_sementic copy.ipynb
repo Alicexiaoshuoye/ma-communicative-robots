{
 "cells": [
  {
   "cell_type": "code",
   "execution_count": 1,
   "source": [
    "cd .."
   ],
   "outputs": [
    {
     "output_type": "stream",
     "name": "stdout",
     "text": [
      "/Users/hidde/Documents/GitHub/ma-communicative-robots/projects/memory/notebooks\n"
     ]
    }
   ],
   "metadata": {}
  },
  {
   "cell_type": "code",
   "execution_count": 2,
   "source": [
    "cd .."
   ],
   "outputs": [
    {
     "output_type": "stream",
     "name": "stdout",
     "text": [
      "/Users/hidde/Documents/GitHub/ma-communicative-robots/projects/memory\n"
     ]
    }
   ],
   "metadata": {}
  },
  {
   "cell_type": "code",
   "execution_count": 3,
   "source": [
    "import json\n",
    "from glob import glob\n",
    "from tqdm.notebook import tqdm\n",
    "import os\n",
    "import random\n",
    "\n",
    "from transformers import T5Tokenizer, T5ForConditionalGeneration\n",
    "\n",
    "tokenizer = T5Tokenizer.from_pretrained(\"tscholak/t5.1.1.lm100k.base\")\n",
    "model = T5ForConditionalGeneration.from_pretrained(\"tscholak/t5.1.1.lm100k.base\")\n",
    "\n",
    "\n",
    "def read_json(path):\n",
    "    \"\"\"Read json file.\n",
    "\n",
    "    Args\n",
    "    ----\n",
    "    path: path to the json\n",
    "\n",
    "    Returns\n",
    "    -------\n",
    "    loaded: loaded dict\n",
    "\n",
    "    \"\"\"\n",
    "    with open(path, \"r\") as stream:\n",
    "        loaded = json.load(stream)\n",
    "\n",
    "    return loaded"
   ],
   "outputs": [],
   "metadata": {}
  },
  {
   "cell_type": "code",
   "execution_count": 4,
   "source": [
    "def convert_to_days(entry):\n",
    "    entry = sorted(entry, key=lambda x: x[-1])\n",
    "    for idx, mem in enumerate(entry):\n",
    "        max_len = len(entry)\n",
    "        days = len(entry) - idx - 1\n",
    "        if days == 0:\n",
    "            timestamp = \"today\"\n",
    "        else:\n",
    "            timestamp = f\"{days} days ago\"\n",
    "        entry[idx][-1] = timestamp"
   ],
   "outputs": [],
   "metadata": {}
  },
  {
   "cell_type": "code",
   "execution_count": 5,
   "source": [
    "path = \"data/128_64.json\"\n",
    "data = read_json(path)\n",
    "prompts = []\n",
    "answers = []\n",
    "prompt_counter = 0\n",
    "for entry in data[\"val\"]:\n",
    "    prompt_counter += 1\n",
    "    print(\"prompt: \", prompt_counter)\n",
    "    entry[\"episodic_memory_system\"] = sorted(\n",
    "        entry[\"episodic_memory_system\"], key=lambda x: x[-1], reverse=True\n",
    "    )\n",
    "    convert_to_days(entry[\"episodic_memory_system\"])\n",
    "\n",
    "    prompt = []\n",
    "    counter = 0\n",
    "    for mem in entry[\"episodic_memory_system\"]:\n",
    "        prompt.append(f\"{mem[0]} was at {mem[2]}, {mem[3]}.\")\n",
    "        counter += 1\n",
    "    print(\"episodic counter\", counter)\n",
    "    counter = 0\n",
    "    print(\"sementic counter\", counter)\n",
    "    prompt.append(f\"Where is {entry['question'][0]}?\")\n",
    "    prompt = \" \".join(prompt)\n",
    "    prompts.append(prompt)\n",
    "    answers.append(entry[\"correct_answer\"])"
   ],
   "outputs": [],
   "metadata": {}
  },
  {
   "cell_type": "code",
   "execution_count": 9,
   "source": [
    "def predict(prompts):\n",
    "    predictions = []\n",
    "    for prompt in prompts:\n",
    "        input_ids = tokenizer(prompt, return_tensors=\"pt\").input_ids\n",
    "        outputs = model.generate(input_ids)\n",
    "        prediction = tokenizer.decode(outputs[0], skip_special_tokens=True)\n",
    "        print(prediction)\n",
    "        predictions.append(prediction)\n",
    "    return predictions"
   ],
   "outputs": [],
   "metadata": {}
  },
  {
   "cell_type": "code",
   "execution_count": 10,
   "source": [
    "def calculate_accuracy(answers, predictions):\n",
    "    correct = 0\n",
    "    wrong = 0\n",
    "    for answer, pred in zip(answers, predictions):\n",
    "        if answer in pred:\n",
    "            correct += 1\n",
    "        else:\n",
    "            wrong += 1\n",
    "\n",
    "    print(f\"correct: {correct}\\nwrong: {wrong}\")\n",
    "    print(f\"accuracy is {correct / (correct+ wrong)*100}\")"
   ],
   "outputs": [],
   "metadata": {}
  },
  {
   "cell_type": "code",
   "execution_count": 12,
   "source": [
    "predictions = predict(prompts)"
   ],
   "outputs": [
    {
     "output_type": "stream",
     "name": "stdout",
     "text": [
      "Mary's bench was at Mary's city, today. Where is Mary's bench\n",
      "Mary's bench was at Mary's city, 1 days ago. John's bench\n",
      "The bench was at John's building, 1 days ago.\n",
      "Mary's person was at Mary's building, today. Where is Mary's person\n",
      "John's bench was at John's building, 3 days ago. Mary's person\n",
      "James's motorcycle was at James's garage, today. Where is James's motorcycle\n",
      "James's car was at James's garage, 1 days ago. John's airplane\n",
      "John's person was at John's city, 7 days ago. Mary's person\n",
      "Mary's boat was at Mary's zoo, today. Where is Mary\n",
      "Mary's car was at Mary's city, 5 days ago. John's airplane\n",
      "Mary's boat was at Mary's zoo, 2 days ago. Mary\n",
      "John's truck was at John's water, 1 day ago. Mary's boat\n",
      "John's truck was at John's water, 2 days ago. John's boat\n",
      "John's truck was at John's sky, today. Where is John's truck\n",
      "John's bicycle was at John's sky, 1 days ago. John's train\n",
      "Mary's person was at Mary's building, today. Where is David's truck\n",
      "David's bicycle was at David's garage, 5 days ago. John's train\n",
      "Mary's person was at Mary's building, 1 day ago. John's plane\n",
      "James's motorcycle was at James's garage, 1 day ago. John's airplane\n",
      "Mary's person was at Mary's building, 2 days ago. John's plane\n",
      "John's train was at John's zoo, 2 days ago. John\n",
      "James's bicycle was at James's garage, today. Where is James's bicycle\n",
      "John's boat was at John's building, 2 days ago. Mary's person\n",
      "Linda's bicycle was at Linda's sky, today. Where is Linda's bicycle\n",
      "John's truck was at John's garage, today. Where is John's truck\n",
      "Linda's bus was at Linda's city, today. Where is Linda's bus\n",
      "John's truck was at John's garage, 2 days ago. Linda's bus\n",
      "John's bench was at John's building, 2 days ago. John's bike\n",
      "Linda's bus was at Linda's city, 2 days ago. Linda's bench\n",
      "John's bench was at John's building, 2 days ago. John's bench\n",
      "Linda's bus was at Linda's city, 5 days ago. Linda's bench\n",
      "Mary's person was at Mary's building, 2 days ago. Mary's person\n",
      "Linda's bus was at Linda's city, 2 days ago. John's bus\n",
      "James's bicycle was at James's city, 2 days ago. Mary's truck\n",
      "John's train was at John's city, today. Where is John's train\n",
      "John's boat was at John's water, 1 days ago. Mary's person\n",
      "John's boat was at John's water, 2 days ago. Mary's plane\n",
      "James's bicycle was at James's city, 2 days ago. Mary's truck\n",
      "The address of Linda's bench is at Linda's city, IL. Where is\n",
      "John's plane was at John's sky, 2 days ago. Mary's person\n",
      "Mary's bus was at Linda's city, 1 day ago. John's boat\n",
      "Mary's train was at Mary's zoo, 1 days ago. David\n",
      "John's truck was at John's garage, 1 day ago. Mary's person\n",
      "Mary's bike was at Mary's garage, 2 days ago. Mary's bike\n",
      "Mary's person was at Mary's building, today. Where is Mary's person\n",
      "Mary's person was at Linda's building, 2 days ago. Mary's person\n",
      "John's plane was at John's sky, 1 day ago. David's motorcycle\n",
      "David's person was at David's building, 2 days ago. David's bicycle\n",
      "David's person was at David's building, 2 days ago. Linda's person\n",
      "Linda's bike was at Linda's garage, 1 day ago. John's boat\n",
      "John's boat was at John's water, 2 days ago. Mary's person\n",
      "Mary's person was at Linda's building, 1 day ago. Mary's person\n",
      "David's motorcycle was at David's garage, 2 days ago. Linda's person\n",
      "Mary's person was at Linda's building, 2 days ago. Mary's person\n",
      "David's boat was at David's water, 1 days ago. James's bus\n",
      "Mary's person was at Mary's building, 2 days ago. Mary's person\n",
      "The address of Linda's bench is at Linda's city, 57 days ago.\n",
      "Linda's bicycle was at Linda's city, 1 day ago. John's truck\n",
      "James's bus was at James's sky, 2 days ago. John's bench\n",
      "David's motorcycle was at David's garage, 1 day ago. Linda's bench\n",
      "The address of Linda's bench is at Mary's city, 63 days ago.\n",
      "Mary's person was at Mary's building, 61 days ago. John's\n",
      "Mary's bicycle was at Mary's garage, 2 days ago. John's truck\n",
      "Mary's person was at Mary's building, 1 day ago. John's truck\n",
      "Mary's person was at Mary's building, 57 days ago. John's\n",
      "John's car was at John's city, 2 days ago. Mary's bike\n",
      "The address of Linda's bench is at Mary's city, 59 days ago.\n",
      "The motorcycle was found at garage. Where is David's motorcycle? The motorcycle was found at\n",
      "The address of Linda's bench is at Mary's city, 61 days ago.\n",
      "Mary's bench was at Mary's water, 2 days ago. John's car\n",
      "David's bicycle was at David's garage, 2 days ago. David's bicycle\n",
      "The boat were found at water. motorcycle were found at garage. Where is David's motorcycle\n",
      "The bench was found at Linda's garden, 59 days ago. John's bicycle\n",
      "James's bicycle was at James's city, 1 day ago. John's plane\n",
      "The train was at John's zoo, today. boat were found at water\n",
      "Mary's person was at Mary's building, 58 days ago. John's\n",
      "The boat was found at water. motorcycle were found at garage. Where is John's boat\n",
      "David's plane was at David's sky, 2 days ago. David's plane\n",
      "The bench was found at Linda's garden, 58 days ago. John's bicycle\n",
      "The car was found at water. person were found at building. motorcycle were found at garage.\n",
      "David's bicycle was at David's garage, 2 days ago. John's bike\n",
      "The train was at Mary's zoo, 1 day ago. Mary's\n",
      "James's car was at James's city, 59 days ago. John's\n",
      "James's truck was at James's city, 2 days ago. Mary's bike\n",
      "The boat was found at Mary's city, 61 days ago. John's bench\n",
      "Mary's bus was at Mary's city, 2 days ago. Mary's bus\n",
      "Mary's train was at Mary's zoo, today. bicycle were found\n",
      "- David's motorcycle was found at David's garage. bicycle were found at garage\n",
      "Mary's airplane was at Mary's sky, 2 days ago. John's bus\n",
      "The address of David's bench is at Mary's city, 60 days ago. John\n",
      "The address of David's bench is at Mary's city, 61 days ago.\n",
      "The following is a list of all the places where John's truck was found.\n",
      "The person was found at Mary's building, 2 days ago. David's bus was\n",
      "The train was found at Mary's city, 1 day ago. David's bus was\n",
      "The boat was found at John's city, today. airplane were found at sky. motorcycle\n",
      "James's bike was at James's city, 2 days ago. David's bike\n",
      "James's bike was at James's city, 2 days ago. David's bike\n",
      "James's boat was at James's city, 1 day ago. David's motorcycle\n",
      "\n",
      "James's bus was at James's city, 2 days ago. David's bus\n",
      "James's bike was at James's city, 57 days ago. John's\n",
      "The boat was found at David's sky, 1 day ago. David's boat was\n",
      "The boat was found at John's city, 63 days ago. John's bench\n",
      "The boat was found at Mary's city, 59 days ago. John's bench\n",
      "James's bike was at John's city, today. airplane were found at sky.\n",
      "David's plane was at David's sky, today. airplane were found at sky.\n",
      "James's boat was at James's city, today. airplane were found at sky.\n",
      "James's boat was at John's water, today. airplane were found at sky.\n",
      "John's car was at John's sky, 2 days ago. John's car\n",
      "Mary's bicycle was found at Mary's city, 61 days ago. John'\n",
      "James's truck was at James's city, 1 days ago. David's plane\n",
      "The bicycle was found at Mary's city, 63 days ago. John's bench\n",
      "The train was at David's sky, 18 days ago. Mary's person was at\n",
      "Mary's bike was at Mary's sky, 2 days ago. John's bike\n",
      "\n",
      "\n",
      "- Linda's train was found at Linda's garden, 57 days ago.\n",
      "- Linda's train was found at Linda's garden, 21 days ago.\n",
      "\n",
      "The bench was found at Mary's city, 62 days ago. John's car\n",
      "The car was found at John's city, 63 days ago. John's bench\n",
      "The bus was found at John's sky, 1 day ago. John's bus was\n",
      "- - - - - - - - -\n",
      "The plane was found at David's sky, today. John's person was at David\n",
      "The following is a list of all the places where David's truck was found.\n",
      "The bike was found at Mary's city, 58 days ago. John's bike\n",
      "- Mary's person was at Mary's building, 1 days ago. -\n",
      "- - - - - - - - -\n"
     ]
    }
   ],
   "metadata": {}
  },
  {
   "cell_type": "code",
   "execution_count": 13,
   "source": [
    "calculate_accuracy(answers, predictions)"
   ],
   "outputs": [
    {
     "output_type": "stream",
     "name": "stdout",
     "text": [
      "correct: 64\n",
      "wrong: 64\n",
      "accuracy is 50.0\n"
     ]
    }
   ],
   "metadata": {}
  }
 ],
 "metadata": {
  "kernelspec": {
   "name": "python3",
   "display_name": "Python 3.7.12 64-bit ('combots': conda)"
  },
  "language_info": {
   "codemirror_mode": {
    "name": "ipython",
    "version": 3
   },
   "file_extension": ".py",
   "mimetype": "text/x-python",
   "name": "python",
   "nbconvert_exporter": "python",
   "pygments_lexer": "ipython3",
   "version": "3.7.12"
  },
  "interpreter": {
   "hash": "e3238207ebef774086c5dd4668a0700977853d12966e90bb97d6d44dccdaa00d"
  }
 },
 "nbformat": 4,
 "nbformat_minor": 5
}