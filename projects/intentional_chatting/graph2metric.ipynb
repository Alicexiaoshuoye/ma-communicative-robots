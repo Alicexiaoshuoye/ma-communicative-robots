{
 "cells": [
  {
   "cell_type": "code",
   "execution_count": null,
   "metadata": {},
   "outputs": [],
   "source": [
    "import os\n",
    "import shutil\n",
    "from pathlib import Path\n",
    "from cltl.dialogue_evaluation.graph_evaluation import GraphEvaluator\n",
    "from cltl.dialogue_evaluation.likelihood_evaluation import LikelihoodEvaluator\n",
    "from cltl.dialogue_evaluation.metrics_correlations import Correlator\n",
    "from cltl.dialogue_evaluation.metrics_plotting import Plotter\n",
    "from cltl.dialogue_evaluation.utils.constants import GRAPH_METRICS, LIKELIHOOD_METRICS, HUMAN_METRICS"
   ]
  },
  {
   "cell_type": "code",
   "execution_count": null,
   "metadata": {},
   "outputs": [],
   "source": [
    "# Change the rdf diretory to correct order to run the evaluation\n",
    "\n",
    "def change_dir (main source, main_destination):\n",
    "    ''\n",
    "    allfiles = os.listdir(main_source)\n",
    "    for dir in allfiles:\n",
    "        src_path_1 = os.path.join(main_source,dir) # 1st dir file path\n",
    "        if os.path.isdir(src_path_1):\n",
    "            src_path_2 = os.path.join(src_path_1,'rdf')\n",
    "            rdffiles = os.listdir(src_path_2)\n",
    "            for d in rdffiles:\n",
    "                src_path_3 = os.path.join(src_path_2,d)\n",
    "                if os.path.isdir(src_path_3):\n",
    "                    dirfiles = os.listdir(src_path_3)\n",
    "                    for f in dirfiles:\n",
    "                        src_path_4 = os.path.join(src_path_3,f)\n",
    "                        shutil.move(src_path_4,src_path_2)\n",
    "                    os.rmdir(src_path_3)"
   ]
  },
  {
   "cell_type": "code",
   "execution_count": null,
   "metadata": {},
   "outputs": [],
   "source": [
    "# provide the path to the main scenarios file \n",
    "# run the change_dir function to change to the correct directory\n",
    "main_source = './ma-communicative-robots/projects/intentional_chatting/rdf_files/conv_ai_2'\n",
    "main_destination = './ma-communicative-robots/projects/intentional_chatting/rdf_files/conv_ai_2'\n",
    "change_dir(main_source, main_destination)\n",
    "\n",
    "# run the following command to iterate over the scenarios and generate the metrics \n",
    "# SCENARIOS_FOLDER = Path(\"./ma-communicative-robots/projects/intentional_chatting/rdf_files/conv_ai_2\") # ./ma-communicative-robots/projects/intentional_chatting/rdf_files/daily_dialog\n",
    "\n",
    "SCENARIOS_FOLDER = Path(main_source)\n",
    "# codes from https://github.com/leolani/cltl-dialogueevaluation/blob/1-read-dialogue-act-annotations/examples/combots_graph_evaluation.py#L18 \n",
    "SCENARIOS = sorted([path for path in SCENARIOS_FOLDER.iterdir() \n",
    "                    if path.is_dir() and path.stem not in ['.idea', 'plots']])\n",
    "\n",
    "graph_evaluator = GraphEvaluator()\n",
    "\n",
    "for SCENARIO_FOLDER in SCENARIOS:\n",
    "    graph_evaluator.evaluate_conversation(SCENARIO_FOLDER, rdf_folder=Path(SCENARIO_FOLDER / f'rdf/'))\n",
    "\n",
    "plotter = Plotter()\n",
    "plotter.plot_conversations(SCENARIOS_FOLDER,\n",
    "                           metrics=['GROUP A - Average degree', 'GROUP A - Sparseness',\n",
    "                                    'GROUP A - Number of components', 'GROUP A - Centrality entropy',\n",
    "                                    'GROUP B - Average population',\n",
    "                                    'GROUP C - Ratio claim to triples', 'GROUP C - Ratio perspectives to claims'\n",
    "                                    ])\n"
   ]
  }
 ],
 "metadata": {
  "kernelspec": {
   "display_name": "Python 3",
   "language": "python",
   "name": "python3"
  },
  "language_info": {
   "name": "python",
   "version": "3.8.10 (default, Nov 14 2022, 12:59:47) \n[GCC 9.4.0]"
  },
  "orig_nbformat": 4,
  "vscode": {
   "interpreter": {
    "hash": "916dbcbb3f70747c44a77c7bcd40155683ae19c65e1c03b4aa3499c5328201f1"
   }
  }
 },
 "nbformat": 4,
 "nbformat_minor": 2
}
