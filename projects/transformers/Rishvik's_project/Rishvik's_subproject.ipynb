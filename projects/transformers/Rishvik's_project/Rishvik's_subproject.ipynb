{
 "cells": [
  {
   "cell_type": "markdown",
   "id": "d6b72aff-0e50-4859-91d9-76228cd4e525",
   "metadata": {},
   "source": [
    "# Rishvik's Sub-project\n",
    "This file was used to generate the score and for the visualisation of the box plots.\n"
   ]
  },
  {
   "cell_type": "markdown",
   "id": "9e205db5-e244-4866-bd12-3faaf1b40266",
   "metadata": {},
   "source": [
    "Please follow the intructions carefully.\n"
   ]
  },
  {
   "cell_type": "markdown",
   "id": "def017eb-02cb-4367-8aba-fd24caa3f717",
   "metadata": {},
   "source": [
    "Filles are mentioned in the data section"
   ]
  },
  {
   "cell_type": "code",
   "execution_count": 2,
   "id": "a4e38475-9fb4-4238-a963-c16205f5ba2a",
   "metadata": {},
   "outputs": [],
   "source": [
    "#import\n",
    "from nltk.translate.bleu_score import sentence_bleu\n",
    "import pandas as pd\n",
    "from nltk.tokenize import word_tokenize\n",
    "from nltk.translate import bleu_score"
   ]
  },
  {
   "cell_type": "code",
   "execution_count": 131,
   "id": "c1618bd9-d4cc-4a70-a34d-f223522a04d7",
   "metadata": {
    "scrolled": true,
    "tags": []
   },
   "outputs": [
    {
     "name": "stdout",
     "output_type": "stream",
     "text": [
      "Collecting bert-score\n",
      "  Downloading bert_score-0.3.11-py3-none-any.whl (60 kB)\n",
      "     |████████████████████████████████| 60 kB 7.6 MB/s             \n",
      "\u001b[?25hRequirement already satisfied: pandas>=1.0.1 in ./robots/cltl-chatbots/venv/lib/python3.8/site-packages (from bert-score) (1.3.4)\n",
      "Requirement already satisfied: requests in ./robots/cltl-chatbots/venv/lib/python3.8/site-packages (from bert-score) (2.26.0)\n",
      "Requirement already satisfied: matplotlib in ./robots/cltl-chatbots/venv/lib/python3.8/site-packages (from bert-score) (3.5.0)\n",
      "Requirement already satisfied: packaging>=20.9 in ./robots/cltl-chatbots/venv/lib/python3.8/site-packages (from bert-score) (21.3)\n",
      "Requirement already satisfied: tqdm>=4.31.1 in ./robots/cltl-chatbots/venv/lib/python3.8/site-packages (from bert-score) (4.62.3)\n",
      "Requirement already satisfied: torch>=1.0.0 in ./robots/cltl-chatbots/venv/lib/python3.8/site-packages (from bert-score) (1.10.0)\n",
      "Requirement already satisfied: transformers>=3.0.0numpy in ./robots/cltl-chatbots/venv/lib/python3.8/site-packages (from bert-score) (4.13.0)\n",
      "Requirement already satisfied: pyparsing!=3.0.5,>=2.0.2 in ./robots/cltl-chatbots/venv/lib/python3.8/site-packages (from packaging>=20.9->bert-score) (3.0.6)\n",
      "Requirement already satisfied: numpy>=1.17.3 in ./robots/cltl-chatbots/venv/lib/python3.8/site-packages (from pandas>=1.0.1->bert-score) (1.21.4)\n",
      "Requirement already satisfied: python-dateutil>=2.7.3 in ./robots/cltl-chatbots/venv/lib/python3.8/site-packages (from pandas>=1.0.1->bert-score) (2.8.2)\n",
      "Requirement already satisfied: pytz>=2017.3 in ./robots/cltl-chatbots/venv/lib/python3.8/site-packages (from pandas>=1.0.1->bert-score) (2021.3)\n",
      "Requirement already satisfied: typing-extensions in ./robots/cltl-chatbots/venv/lib/python3.8/site-packages (from torch>=1.0.0->bert-score) (4.0.1)\n",
      "Requirement already satisfied: sacremoses in ./robots/cltl-chatbots/venv/lib/python3.8/site-packages (from transformers>=3.0.0numpy->bert-score) (0.0.46)\n",
      "Requirement already satisfied: huggingface-hub<1.0,>=0.1.0 in ./robots/cltl-chatbots/venv/lib/python3.8/site-packages (from transformers>=3.0.0numpy->bert-score) (0.2.1)\n",
      "Requirement already satisfied: filelock in ./robots/cltl-chatbots/venv/lib/python3.8/site-packages (from transformers>=3.0.0numpy->bert-score) (3.4.0)\n",
      "Requirement already satisfied: regex!=2019.12.17 in ./robots/cltl-chatbots/venv/lib/python3.8/site-packages (from transformers>=3.0.0numpy->bert-score) (2021.11.10)\n",
      "Requirement already satisfied: tokenizers<0.11,>=0.10.1 in ./robots/cltl-chatbots/venv/lib/python3.8/site-packages (from transformers>=3.0.0numpy->bert-score) (0.10.3)\n",
      "Requirement already satisfied: pyyaml>=5.1 in ./robots/cltl-chatbots/venv/lib/python3.8/site-packages (from transformers>=3.0.0numpy->bert-score) (6.0)\n",
      "Requirement already satisfied: fonttools>=4.22.0 in ./robots/cltl-chatbots/venv/lib/python3.8/site-packages (from matplotlib->bert-score) (4.28.3)\n",
      "Requirement already satisfied: cycler>=0.10 in ./robots/cltl-chatbots/venv/lib/python3.8/site-packages (from matplotlib->bert-score) (0.11.0)\n",
      "Requirement already satisfied: setuptools-scm>=4 in ./robots/cltl-chatbots/venv/lib/python3.8/site-packages (from matplotlib->bert-score) (6.3.2)\n",
      "Requirement already satisfied: kiwisolver>=1.0.1 in ./robots/cltl-chatbots/venv/lib/python3.8/site-packages (from matplotlib->bert-score) (1.3.2)\n",
      "Requirement already satisfied: pillow>=6.2.0 in ./robots/cltl-chatbots/venv/lib/python3.8/site-packages (from matplotlib->bert-score) (8.4.0)\n",
      "Requirement already satisfied: charset-normalizer~=2.0.0 in ./robots/cltl-chatbots/venv/lib/python3.8/site-packages (from requests->bert-score) (2.0.9)\n",
      "Requirement already satisfied: idna<4,>=2.5 in ./robots/cltl-chatbots/venv/lib/python3.8/site-packages (from requests->bert-score) (3.3)\n",
      "Requirement already satisfied: certifi>=2017.4.17 in ./robots/cltl-chatbots/venv/lib/python3.8/site-packages (from requests->bert-score) (2021.10.8)\n",
      "Requirement already satisfied: urllib3<1.27,>=1.21.1 in ./robots/cltl-chatbots/venv/lib/python3.8/site-packages (from requests->bert-score) (1.26.7)\n",
      "Requirement already satisfied: six>=1.5 in ./robots/cltl-chatbots/venv/lib/python3.8/site-packages (from python-dateutil>=2.7.3->pandas>=1.0.1->bert-score) (1.16.0)\n",
      "Requirement already satisfied: setuptools in ./robots/cltl-chatbots/venv/lib/python3.8/site-packages (from setuptools-scm>=4->matplotlib->bert-score) (49.2.1)\n",
      "Requirement already satisfied: tomli>=1.0.0 in ./robots/cltl-chatbots/venv/lib/python3.8/site-packages (from setuptools-scm>=4->matplotlib->bert-score) (1.2.2)\n",
      "Requirement already satisfied: click in ./robots/cltl-chatbots/venv/lib/python3.8/site-packages (from sacremoses->transformers>=3.0.0numpy->bert-score) (8.0.3)\n",
      "Requirement already satisfied: joblib in ./robots/cltl-chatbots/venv/lib/python3.8/site-packages (from sacremoses->transformers>=3.0.0numpy->bert-score) (1.1.0)\n",
      "Installing collected packages: bert-score\n",
      "Successfully installed bert-score-0.3.11\n",
      "Note: you may need to restart the kernel to use updated packages.\n"
     ]
    }
   ],
   "source": [
    "%pip install bert-score"
   ]
  },
  {
   "cell_type": "markdown",
   "id": "772a6693-37cf-4c3c-894b-0afd122b029c",
   "metadata": {},
   "source": [
    "So basically we have 8 files, which we will be running in order to otain results."
   ]
  },
  {
   "cell_type": "markdown",
   "id": "af807b48-818c-4ec2-9173-126f5587dc60",
   "metadata": {},
   "source": [
    "To obtain, all combined results, we used sentence_subset.csv for automated and Avg_humans.csv for human evaluation scores"
   ]
  },
  {
   "cell_type": "markdown",
   "id": "84c45e60-00f8-4202-8da7-3367bdd6270f",
   "metadata": {},
   "source": [
    "simillarly, for small refrence sentence catagory, use  small.csv use human_small.csv"
   ]
  },
  {
   "cell_type": "markdown",
   "id": "e0def5b4-f937-4d09-9049-14334a343df6",
   "metadata": {},
   "source": [
    "for or medium refrence sentence catagory, use  medium.csv use human_medium.csv and or long refrence sentence catagory, use  long.csv use human_long.csv"
   ]
  },
  {
   "cell_type": "code",
   "execution_count": 539,
   "id": "51f0b801-ff0e-4391-9211-fc9551c83db7",
   "metadata": {},
   "outputs": [],
   "source": [
    "df=pd.read_csv(\"./Sentence_subset.csv\",sep = \";\") # main csv for automated evaluation"
   ]
  },
  {
   "cell_type": "code",
   "execution_count": 540,
   "id": "2a3c683e-df7b-458a-966f-c7935a12464f",
   "metadata": {},
   "outputs": [],
   "source": [
    "#meteor score\n",
    "a = []\n",
    "for r, s in zip(df.Reference, df.Sentences):\n",
    "    b = (nltk.translate.meteor_score.meteor_score([r],s))\n",
    "    a.append(b)\n",
    "df2 = pd.DataFrame(a)\n",
    "df2.columns  =['Meteor']\n",
    "df= pd.concat([df, df2],axis=1)"
   ]
  },
  {
   "cell_type": "code",
   "execution_count": 541,
   "id": "8dcbe32c-7551-4c7c-97df-51bcedc5e989",
   "metadata": {},
   "outputs": [],
   "source": [
    "#bleu score \n",
    "z = []\n",
    "for r, s in zip(df.Reference, df.Sentences):\n",
    "    rounds = (bleu_score.sentence_bleu([r], s))\n",
    "    z.append(rounds)\n",
    "df3 = pd.DataFrame(z)\n",
    "df3.columns  =['blue']\n",
    "df= pd.concat([df, df3],axis=1)"
   ]
  },
  {
   "cell_type": "code",
   "execution_count": 542,
   "id": "25c50b41-1fd0-418b-8b60-c111bf497229",
   "metadata": {},
   "outputs": [],
   "source": [
    "#sacerbleu score\n",
    "x = []\n",
    "for r, s in zip(df.Reference, df.Sentences):\n",
    "    result = bleu.corpus_score([s], [[r]])\n",
    "    x.append(result.score)\n",
    "df4 = pd.DataFrame(x)\n",
    "df4.columns  =['sacreBleu']\n",
    "df= pd.concat([df, df4],axis=1)"
   ]
  },
  {
   "cell_type": "code",
   "execution_count": null,
   "id": "ad068f1c-2ee4-4adb-b47e-5362d71fcd26",
   "metadata": {},
   "outputs": [],
   "source": [
    "#bertScore\n",
    "#IMPORTANT:for this you need enough pu memory\n",
    "#ELSE you will have an error.\n",
    "from bert_score import BERTScorer\n",
    "y = []\n",
    "for r, s in zip(df.Reference, df.Sentences):\n",
    "    scorer = BERTScorer(lang=\"en\", rescale_with_baseline=True)\n",
    "    P, R, F1 = scorer.score(r, s)\n",
    "    results = F1.mean()\n",
    "    y.append(results)\n",
    "df5 = pd.DataFrame(y)\n",
    "df5.columns  =['bertScore']\n",
    "df= pd.concat([df, df5],axis=1)"
   ]
  },
  {
   "cell_type": "code",
   "execution_count": 550,
   "id": "84b738d0-f5e1-4501-9df1-6332bde25ae0",
   "metadata": {},
   "outputs": [],
   "source": [
    "df0=pd.read_csv(\"./Avg_human.csv\",sep = \";\")# file that contains human evaluation scores(average)\n",
    "df0=df0.drop(['Sentences'], axis=1)"
   ]
  },
  {
   "cell_type": "code",
   "execution_count": 551,
   "id": "225a2e6d-33f0-45d8-a9cc-dd9310af0552",
   "metadata": {},
   "outputs": [
    {
     "data": {
      "text/html": [
       "<div>\n",
       "<style scoped>\n",
       "    .dataframe tbody tr th:only-of-type {\n",
       "        vertical-align: middle;\n",
       "    }\n",
       "\n",
       "    .dataframe tbody tr th {\n",
       "        vertical-align: top;\n",
       "    }\n",
       "\n",
       "    .dataframe thead th {\n",
       "        text-align: right;\n",
       "    }\n",
       "</style>\n",
       "<table border=\"1\" class=\"dataframe\">\n",
       "  <thead>\n",
       "    <tr style=\"text-align: right;\">\n",
       "      <th></th>\n",
       "      <th>Sentences</th>\n",
       "      <th>Reference</th>\n",
       "      <th>Meteor</th>\n",
       "      <th>blue</th>\n",
       "      <th>sacreBlue</th>\n",
       "      <th>Avg</th>\n",
       "      <th>Avg</th>\n",
       "    </tr>\n",
       "  </thead>\n",
       "  <tbody>\n",
       "    <tr>\n",
       "      <th>0</th>\n",
       "      <td>Pontiac Riac has a Coupe body style and is ass...</td>\n",
       "      <td>The coupe style Pontiac Rageous is assembled i...</td>\n",
       "      <td>0.682467</td>\n",
       "      <td>0.662126</td>\n",
       "      <td>31.455602</td>\n",
       "      <td>0.595556</td>\n",
       "      <td>0.595556</td>\n",
       "    </tr>\n",
       "    <tr>\n",
       "      <th>1</th>\n",
       "      <td>\"The film, \"\"Its Great to be 5\"\" starred by \"\"...</td>\n",
       "      <td>Cecil Parker had a main role in It's Great to ...</td>\n",
       "      <td>0.249529</td>\n",
       "      <td>0.264556</td>\n",
       "      <td>4.048893</td>\n",
       "      <td>0.604444</td>\n",
       "      <td>0.604444</td>\n",
       "    </tr>\n",
       "    <tr>\n",
       "      <th>2</th>\n",
       "      <td>The Motor Sport Sport Vision is located in Faw...</td>\n",
       "      <td>MotorSport Vision is located in the city of Fa...</td>\n",
       "      <td>0.391579</td>\n",
       "      <td>0.571377</td>\n",
       "      <td>18.798318</td>\n",
       "      <td>0.577778</td>\n",
       "      <td>0.577778</td>\n",
       "    </tr>\n",
       "    <tr>\n",
       "      <th>3</th>\n",
       "      <td>The population density of Ciudad Ayala is 1604...</td>\n",
       "      <td>The population density of Ciudad Ayala is 1604.0.</td>\n",
       "      <td>0.791116</td>\n",
       "      <td>0.607732</td>\n",
       "      <td>55.936849</td>\n",
       "      <td>0.617778</td>\n",
       "      <td>0.617778</td>\n",
       "    </tr>\n",
       "    <tr>\n",
       "      <th>4</th>\n",
       "      <td>Anatole de Groinwald is the producer of Anatol...</td>\n",
       "      <td>\"English Without Tears\" was produced by Anatol...</td>\n",
       "      <td>0.277778</td>\n",
       "      <td>0.433370</td>\n",
       "      <td>6.844195</td>\n",
       "      <td>0.657778</td>\n",
       "      <td>0.657778</td>\n",
       "    </tr>\n",
       "    <tr>\n",
       "      <th>5</th>\n",
       "      <td>Ciudad Ayala is located in Mexico and is led b...</td>\n",
       "      <td>Ciudad Ayala ruled by governator is in the cou...</td>\n",
       "      <td>0.253348</td>\n",
       "      <td>0.314879</td>\n",
       "      <td>3.704202</td>\n",
       "      <td>0.911111</td>\n",
       "      <td>0.911111</td>\n",
       "    </tr>\n",
       "    <tr>\n",
       "      <th>6</th>\n",
       "      <td>Born in 1897, the British Folks, was the direc...</td>\n",
       "      <td>Harold French who was born in 1897 directed th...</td>\n",
       "      <td>0.184584</td>\n",
       "      <td>0.244202</td>\n",
       "      <td>3.386795</td>\n",
       "      <td>0.751111</td>\n",
       "      <td>0.751111</td>\n",
       "    </tr>\n",
       "    <tr>\n",
       "      <th>7</th>\n",
       "      <td>Tom Simon is the director of Deathona Factory ...</td>\n",
       "      <td>Death on a Factory Farm is a HBO film produced...</td>\n",
       "      <td>0.220927</td>\n",
       "      <td>0.409674</td>\n",
       "      <td>5.028805</td>\n",
       "      <td>0.688889</td>\n",
       "      <td>0.688889</td>\n",
       "    </tr>\n",
       "    <tr>\n",
       "      <th>8</th>\n",
       "      <td>Ray Giles was born in 1974 and wrote the super...</td>\n",
       "      <td>Director Ray Griggs, born in 1974, is the writ...</td>\n",
       "      <td>0.323718</td>\n",
       "      <td>0.367190</td>\n",
       "      <td>6.635320</td>\n",
       "      <td>0.768889</td>\n",
       "      <td>0.768889</td>\n",
       "    </tr>\n",
       "    <tr>\n",
       "      <th>9</th>\n",
       "      <td>The College of William and Mary is the owner o...</td>\n",
       "      <td>The College of William and Mary, located in Wi...</td>\n",
       "      <td>0.469220</td>\n",
       "      <td>0.438908</td>\n",
       "      <td>30.298518</td>\n",
       "      <td>0.680000</td>\n",
       "      <td>0.680000</td>\n",
       "    </tr>\n",
       "    <tr>\n",
       "      <th>10</th>\n",
       "      <td>Ciudad Ayala is located in the country of Mexi...</td>\n",
       "      <td>Ciudad Ayala is a part of Morelos and located ...</td>\n",
       "      <td>0.145757</td>\n",
       "      <td>0.054062</td>\n",
       "      <td>2.738672</td>\n",
       "      <td>0.573333</td>\n",
       "      <td>0.573333</td>\n",
       "    </tr>\n",
       "    <tr>\n",
       "      <th>11</th>\n",
       "      <td>The Director of Deathona Factory Farm is Tom S...</td>\n",
       "      <td>Death on a Factory Farm was a movie produced a...</td>\n",
       "      <td>0.167099</td>\n",
       "      <td>0.109883</td>\n",
       "      <td>1.035622</td>\n",
       "      <td>0.760000</td>\n",
       "      <td>0.760000</td>\n",
       "    </tr>\n",
       "    <tr>\n",
       "      <th>12</th>\n",
       "      <td>The Bedford Aerodrome, which serves the city ...</td>\n",
       "      <td>The Bedford Aerodrome sitting at an elevation ...</td>\n",
       "      <td>0.151017</td>\n",
       "      <td>0.053839</td>\n",
       "      <td>1.741701</td>\n",
       "      <td>0.715556</td>\n",
       "      <td>0.715556</td>\n",
       "    </tr>\n",
       "    <tr>\n",
       "      <th>13</th>\n",
       "      <td>The 11th Mississippi Infantry monument is loca...</td>\n",
       "      <td>The 11th Mississippi Infantry Monument was est...</td>\n",
       "      <td>0.239583</td>\n",
       "      <td>0.216279</td>\n",
       "      <td>11.334478</td>\n",
       "      <td>0.684444</td>\n",
       "      <td>0.684444</td>\n",
       "    </tr>\n",
       "    <tr>\n",
       "      <th>14</th>\n",
       "      <td>Acharya Institute of Technology is located at ...</td>\n",
       "      <td>The Acharya Institute of Technology is located...</td>\n",
       "      <td>0.125248</td>\n",
       "      <td>0.010158</td>\n",
       "      <td>0.328465</td>\n",
       "      <td>0.657778</td>\n",
       "      <td>0.657778</td>\n",
       "    </tr>\n",
       "  </tbody>\n",
       "</table>\n",
       "</div>"
      ],
      "text/plain": [
       "                                            Sentences  \\\n",
       "0   Pontiac Riac has a Coupe body style and is ass...   \n",
       "1   \"The film, \"\"Its Great to be 5\"\" starred by \"\"...   \n",
       "2   The Motor Sport Sport Vision is located in Faw...   \n",
       "3   The population density of Ciudad Ayala is 1604...   \n",
       "4   Anatole de Groinwald is the producer of Anatol...   \n",
       "5   Ciudad Ayala is located in Mexico and is led b...   \n",
       "6   Born in 1897, the British Folks, was the direc...   \n",
       "7   Tom Simon is the director of Deathona Factory ...   \n",
       "8   Ray Giles was born in 1974 and wrote the super...   \n",
       "9   The College of William and Mary is the owner o...   \n",
       "10  Ciudad Ayala is located in the country of Mexi...   \n",
       "11  The Director of Deathona Factory Farm is Tom S...   \n",
       "12   The Bedford Aerodrome, which serves the city ...   \n",
       "13  The 11th Mississippi Infantry monument is loca...   \n",
       "14  Acharya Institute of Technology is located at ...   \n",
       "\n",
       "                                            Reference    Meteor      blue  \\\n",
       "0   The coupe style Pontiac Rageous is assembled i...  0.682467  0.662126   \n",
       "1   Cecil Parker had a main role in It's Great to ...  0.249529  0.264556   \n",
       "2   MotorSport Vision is located in the city of Fa...  0.391579  0.571377   \n",
       "3   The population density of Ciudad Ayala is 1604.0.  0.791116  0.607732   \n",
       "4   \"English Without Tears\" was produced by Anatol...  0.277778  0.433370   \n",
       "5   Ciudad Ayala ruled by governator is in the cou...  0.253348  0.314879   \n",
       "6   Harold French who was born in 1897 directed th...  0.184584  0.244202   \n",
       "7   Death on a Factory Farm is a HBO film produced...  0.220927  0.409674   \n",
       "8   Director Ray Griggs, born in 1974, is the writ...  0.323718  0.367190   \n",
       "9   The College of William and Mary, located in Wi...  0.469220  0.438908   \n",
       "10  Ciudad Ayala is a part of Morelos and located ...  0.145757  0.054062   \n",
       "11  Death on a Factory Farm was a movie produced a...  0.167099  0.109883   \n",
       "12  The Bedford Aerodrome sitting at an elevation ...  0.151017  0.053839   \n",
       "13  The 11th Mississippi Infantry Monument was est...  0.239583  0.216279   \n",
       "14  The Acharya Institute of Technology is located...  0.125248  0.010158   \n",
       "\n",
       "    sacreBlue      Avg       Avg   \n",
       "0   31.455602  0.595556  0.595556  \n",
       "1    4.048893  0.604444  0.604444  \n",
       "2   18.798318  0.577778  0.577778  \n",
       "3   55.936849  0.617778  0.617778  \n",
       "4    6.844195  0.657778  0.657778  \n",
       "5    3.704202  0.911111  0.911111  \n",
       "6    3.386795  0.751111  0.751111  \n",
       "7    5.028805  0.688889  0.688889  \n",
       "8    6.635320  0.768889  0.768889  \n",
       "9   30.298518  0.680000  0.680000  \n",
       "10   2.738672  0.573333  0.573333  \n",
       "11   1.035622  0.760000  0.760000  \n",
       "12   1.741701  0.715556  0.715556  \n",
       "13  11.334478  0.684444  0.684444  \n",
       "14   0.328465  0.657778  0.657778  "
      ]
     },
     "execution_count": 551,
     "metadata": {},
     "output_type": "execute_result"
    }
   ],
   "source": [
    "#df0[\"Avg\"] = [float(str(i).replace(\",\", \".\")) for i in df0[\"Avg\"]]\n",
    "df = pd.concat([df,df0], axis = 1)\n",
    "df"
   ]
  },
  {
   "cell_type": "code",
   "execution_count": 552,
   "id": "bc1f1304-62b4-435d-8f8e-a94f81397b0f",
   "metadata": {},
   "outputs": [],
   "source": [
    "#if due to some reasons you values have (,) insted of (.) you can use this code.\n",
    "\n",
    "#df0[\"meteor\"] = [float(str(i).replace(\",\", \".\")) for i in df0[\"meteor\"]]\n",
    "#df0[\"berrtSCORE\"] = [float(str(i).replace(\",\", \".\")) for i in df0[\"berrtSCORE\"]]\n",
    "#df0[\"SB_N\"] = [float(str(i).replace(\",\", \".\")) for i in df0[\"SB_N\"]]\n",
    "#df0[\"bleu\"] = [float(str(i).replace(\",\", \".\")) for i in df0[\"bleu\"]]\n",
    "\n",
    "# because of (,) your float value is converted into object(str), and you won't be able to visualise your results."
   ]
  },
  {
   "cell_type": "code",
   "execution_count": 447,
   "id": "f0fe9fcd-618d-4748-9e92-79fd10963e1d",
   "metadata": {},
   "outputs": [
    {
     "data": {
      "image/png": "[encoded data removed]",
      "text/plain": [
       "<Figure size 432x288 with 1 Axes>"
      ]
     },
     "metadata": {
      "needs_background": "light"
     },
     "output_type": "display_data"
    }
   ],
   "source": [
    "boxplot = df.boxplot(column=['bleu','meteor', 'berrtSCORE','Avg'])"
   ]
  },
  {
   "cell_type": "code",
   "execution_count": 448,
   "id": "afc212cc-a970-460a-9e9b-22ef4f62be47",
   "metadata": {},
   "outputs": [
    {
     "data": {
      "image/png": "[encoded data removed]",
      "text/plain": [
       "<Figure size 432x288 with 1 Axes>"
      ]
     },
     "metadata": {
      "needs_background": "light"
     },
     "output_type": "display_data"
    }
   ],
   "source": [
    "boxplot1 = df0_f.boxplot(column=['sacreBleu']) \n",
    "#made it saperatly because the range is 1-100"
   ]
  },
  {
   "cell_type": "code",
   "execution_count": null,
   "id": "a17ba762-0b73-4ea9-9871-8f9f82c25bb5",
   "metadata": {},
   "outputs": [],
   "source": []
  },
  {
   "cell_type": "code",
   "execution_count": null,
   "id": "623b1167-0194-411f-b6de-10bdff2191b5",
   "metadata": {},
   "outputs": [],
   "source": []
  },
  {
   "cell_type": "code",
   "execution_count": null,
   "id": "ed650f0d-dc0d-476a-acc6-1e31909501e6",
   "metadata": {},
   "outputs": [],
   "source": []
  }
 ],
 "metadata": {
  "kernelspec": {
   "display_name": "venv",
   "language": "python",
   "name": "venv"
  },
  "language_info": {
   "codemirror_mode": {
    "name": "ipython",
    "version": 3
   },
   "file_extension": ".py",
   "mimetype": "text/x-python",
   "name": "python",
   "nbconvert_exporter": "python",
   "pygments_lexer": "ipython3",
   "version": "3.8.8"
  }
 },
 "nbformat": 4,
 "nbformat_minor": 5
}
