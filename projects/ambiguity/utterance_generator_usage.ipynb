{
  "nbformat": 4,
  "nbformat_minor": 0,
  "metadata": {
    "colab": {
      "name": "utterance_generator_usage.ipynb",
      "provenance": []
    },
    "kernelspec": {
      "name": "python3",
      "display_name": "Python 3"
    },
    "language_info": {
      "name": "python"
    }
  },
  "cells": [
    {
      "cell_type": "markdown",
      "source": [
        "\n",
        "\n",
        "# Installing pre-requisites #\n",
        "\n"
      ],
      "metadata": {
        "id": "1XZqsn6s1mLS"
      }
    },
    {
      "cell_type": "code",
      "metadata": {
        "colab": {
          "base_uri": "https://localhost:8080/"
        },
        "id": "ZCSFMaI-Qcmy",
        "outputId": "77a56be5-253c-4868-b19f-24a00444a0c2"
      },
      "source": [
        "!python3 -m pip install folium==0.2.1"
      ],
      "execution_count": 1,
      "outputs": [
        {
          "output_type": "stream",
          "name": "stdout",
          "text": [
            "Requirement already satisfied: folium==0.2.1 in /usr/local/lib/python3.7/dist-packages (0.2.1)\n",
            "Requirement already satisfied: Jinja2 in /usr/local/lib/python3.7/dist-packages (from folium==0.2.1) (2.11.3)\n",
            "Requirement already satisfied: MarkupSafe>=0.23 in /usr/local/lib/python3.7/dist-packages (from Jinja2->folium==0.2.1) (2.0.1)\n"
          ]
        }
      ]
    },
    {
      "cell_type": "code",
      "metadata": {
        "colab": {
          "base_uri": "https://localhost:8080/"
        },
        "id": "hOuxr2jpQwN_",
        "outputId": "9a217ca1-5245-457a-c557-f45ccc42d433"
      },
      "source": [
        "!python3 -m pip install imgaug==0.2.6"
      ],
      "execution_count": 2,
      "outputs": [
        {
          "output_type": "stream",
          "name": "stdout",
          "text": [
            "Requirement already satisfied: imgaug==0.2.6 in /usr/local/lib/python3.7/dist-packages (0.2.6)\n",
            "Requirement already satisfied: numpy>=1.7.0 in /usr/local/lib/python3.7/dist-packages (from imgaug==0.2.6) (1.21.5)\n",
            "Requirement already satisfied: six in /usr/local/lib/python3.7/dist-packages (from imgaug==0.2.6) (1.15.0)\n",
            "Requirement already satisfied: scikit-image>=0.11.0 in /usr/local/lib/python3.7/dist-packages (from imgaug==0.2.6) (0.18.3)\n",
            "Requirement already satisfied: scipy in /usr/local/lib/python3.7/dist-packages (from imgaug==0.2.6) (1.4.1)\n",
            "Requirement already satisfied: PyWavelets>=1.1.1 in /usr/local/lib/python3.7/dist-packages (from scikit-image>=0.11.0->imgaug==0.2.6) (1.2.0)\n",
            "Requirement already satisfied: tifffile>=2019.7.26 in /usr/local/lib/python3.7/dist-packages (from scikit-image>=0.11.0->imgaug==0.2.6) (2021.11.2)\n",
            "Requirement already satisfied: pillow!=7.1.0,!=7.1.1,>=4.3.0 in /usr/local/lib/python3.7/dist-packages (from scikit-image>=0.11.0->imgaug==0.2.6) (7.1.2)\n",
            "Requirement already satisfied: imageio>=2.3.0 in /usr/local/lib/python3.7/dist-packages (from scikit-image>=0.11.0->imgaug==0.2.6) (2.4.1)\n",
            "Requirement already satisfied: networkx>=2.0 in /usr/local/lib/python3.7/dist-packages (from scikit-image>=0.11.0->imgaug==0.2.6) (2.6.3)\n",
            "Requirement already satisfied: matplotlib!=3.0.0,>=2.0.0 in /usr/local/lib/python3.7/dist-packages (from scikit-image>=0.11.0->imgaug==0.2.6) (3.2.2)\n",
            "Requirement already satisfied: python-dateutil>=2.1 in /usr/local/lib/python3.7/dist-packages (from matplotlib!=3.0.0,>=2.0.0->scikit-image>=0.11.0->imgaug==0.2.6) (2.8.2)\n",
            "Requirement already satisfied: cycler>=0.10 in /usr/local/lib/python3.7/dist-packages (from matplotlib!=3.0.0,>=2.0.0->scikit-image>=0.11.0->imgaug==0.2.6) (0.11.0)\n",
            "Requirement already satisfied: kiwisolver>=1.0.1 in /usr/local/lib/python3.7/dist-packages (from matplotlib!=3.0.0,>=2.0.0->scikit-image>=0.11.0->imgaug==0.2.6) (1.3.2)\n",
            "Requirement already satisfied: pyparsing!=2.0.4,!=2.1.2,!=2.1.6,>=2.0.1 in /usr/local/lib/python3.7/dist-packages (from matplotlib!=3.0.0,>=2.0.0->scikit-image>=0.11.0->imgaug==0.2.6) (3.0.6)\n"
          ]
        }
      ]
    },
    {
      "cell_type": "code",
      "metadata": {
        "colab": {
          "base_uri": "https://localhost:8080/"
        },
        "id": "Q41WjfdwRGez",
        "outputId": "b663378f-46f4-4f37-8264-b36ae47b3cce"
      },
      "source": [
        "!python3 -m pip install numpy==1.19"
      ],
      "execution_count": 3,
      "outputs": [
        {
          "output_type": "stream",
          "name": "stdout",
          "text": [
            "Collecting numpy==1.19\n",
            "  Using cached numpy-1.19.0-cp37-cp37m-manylinux2010_x86_64.whl (14.6 MB)\n",
            "Installing collected packages: numpy\n",
            "  Attempting uninstall: numpy\n",
            "    Found existing installation: numpy 1.21.5\n",
            "    Uninstalling numpy-1.21.5:\n",
            "      Successfully uninstalled numpy-1.21.5\n",
            "\u001b[31mERROR: pip's dependency resolver does not currently take into account all the packages that are installed. This behaviour is the source of the following dependency conflicts.\n",
            "emissor 0.0.dev5 requires numpy~=1.20, but you have numpy 1.19.0 which is incompatible.\u001b[0m\n",
            "Successfully installed numpy-1.19.0\n"
          ]
        }
      ]
    },
    {
      "cell_type": "code",
      "metadata": {
        "colab": {
          "base_uri": "https://localhost:8080/"
        },
        "id": "HiGO10LZIG7b",
        "outputId": "344d1d58-7aaa-4c1a-f777-3a3f24670e52"
      },
      "source": [
        "!git clone https://github.com/jaapkruijt/photobook-generation.git"
      ],
      "execution_count": 4,
      "outputs": [
        {
          "output_type": "stream",
          "name": "stdout",
          "text": [
            "fatal: destination path 'photobook-generation' already exists and is not an empty directory.\n"
          ]
        }
      ]
    },
    {
      "cell_type": "code",
      "metadata": {
        "colab": {
          "base_uri": "https://localhost:8080/"
        },
        "id": "t8pACnNCIMqC",
        "outputId": "4f8d6f60-6eea-41a4-de5b-e9fa2a598a21"
      },
      "source": [
        "!python3 -m pip install --index-url https://test.pypi.org/simple/ --extra-index-url https://pypi.org/simple emissor"
      ],
      "execution_count": 5,
      "outputs": [
        {
          "output_type": "stream",
          "name": "stdout",
          "text": [
            "Looking in indexes: https://test.pypi.org/simple/, https://pypi.org/simple\n",
            "Requirement already satisfied: emissor in /usr/local/lib/python3.7/dist-packages (0.0.dev5)\n",
            "Requirement already satisfied: rdflib-jsonld~=0.5 in /usr/local/lib/python3.7/dist-packages (from emissor) (0.6.2)\n",
            "Requirement already satisfied: marshmallow~=3.11 in /usr/local/lib/python3.7/dist-packages (from emissor) (3.14.1)\n",
            "Requirement already satisfied: simplejson~=3.17 in /usr/local/lib/python3.7/dist-packages (from emissor) (3.17.6)\n",
            "Requirement already satisfied: marshmallow-enum~=1.5 in /usr/local/lib/python3.7/dist-packages (from emissor) (1.5.1)\n",
            "Requirement already satisfied: marshmallow-dataclass~=8.4 in /usr/local/lib/python3.7/dist-packages (from emissor) (8.5.3)\n",
            "Collecting numpy~=1.20\n",
            "  Using cached numpy-1.21.5-cp37-cp37m-manylinux_2_12_x86_64.manylinux2010_x86_64.whl (15.7 MB)\n",
            "Requirement already satisfied: rdflib~=5.0 in /usr/local/lib/python3.7/dist-packages (from emissor) (5.0.0)\n",
            "Requirement already satisfied: typing-inspect>=0.7.1 in /usr/local/lib/python3.7/dist-packages (from marshmallow-dataclass~=8.4->emissor) (0.7.1)\n",
            "Requirement already satisfied: isodate in /usr/local/lib/python3.7/dist-packages (from rdflib~=5.0->emissor) (0.6.1)\n",
            "Requirement already satisfied: pyparsing in /usr/local/lib/python3.7/dist-packages (from rdflib~=5.0->emissor) (3.0.6)\n",
            "Requirement already satisfied: six in /usr/local/lib/python3.7/dist-packages (from rdflib~=5.0->emissor) (1.15.0)\n",
            "Requirement already satisfied: typing-extensions>=3.7.4 in /usr/local/lib/python3.7/dist-packages (from typing-inspect>=0.7.1->marshmallow-dataclass~=8.4->emissor) (3.10.0.2)\n",
            "Requirement already satisfied: mypy-extensions>=0.3.0 in /usr/local/lib/python3.7/dist-packages (from typing-inspect>=0.7.1->marshmallow-dataclass~=8.4->emissor) (0.4.3)\n",
            "Installing collected packages: numpy\n",
            "  Attempting uninstall: numpy\n",
            "    Found existing installation: numpy 1.19.0\n",
            "    Uninstalling numpy-1.19.0:\n",
            "      Successfully uninstalled numpy-1.19.0\n",
            "\u001b[31mERROR: pip's dependency resolver does not currently take into account all the packages that are installed. This behaviour is the source of the following dependency conflicts.\n",
            "yellowbrick 1.3.post1 requires numpy<1.20,>=1.16.0, but you have numpy 1.21.5 which is incompatible.\u001b[0m\n",
            "Successfully installed numpy-1.21.5\n"
          ]
        }
      ]
    },
    {
      "cell_type": "code",
      "source": [
        "!cd photobook-generation/ && python scenario_creation.py"
      ],
      "metadata": {
        "colab": {
          "base_uri": "https://localhost:8080/"
        },
        "id": "iRuR9B781xAx",
        "outputId": "7c1d5c40-8bcc-4844-f1fb-5cc5d40b3aab"
      },
      "execution_count": 6,
      "outputs": [
        {
          "output_type": "stream",
          "name": "stdout",
          "text": [
            "Directory  ./data/scenario_3/picture_1  already exists\n",
            "Directory  ./data/scenario_3/picture_1/image  already exists\n",
            "Directory  ./data/scenario_3/picture_2  already exists\n",
            "Directory  ./data/scenario_3/picture_2/image  already exists\n",
            "Directory  ./data/scenario_3/picture_3  already exists\n",
            "Directory  ./data/scenario_3/picture_3/image  already exists\n",
            "Directory  ./data/scenario_3/picture_4  already exists\n",
            "Directory  ./data/scenario_3/picture_4/image  already exists\n",
            "Directory  ./data/scenario_3/picture_5  already exists\n",
            "Directory  ./data/scenario_3/picture_5/image  already exists\n",
            "Directory  ./data/scenario_3/picture_6  already exists\n",
            "Directory  ./data/scenario_3/picture_6/image  already exists\n",
            "Directory  ./data/scenario_3/picture_7  already exists\n",
            "Directory  ./data/scenario_3/picture_7/image  already exists\n",
            "Directory  ./data/scenario_3/picture_8  already exists\n",
            "Directory  ./data/scenario_3/picture_8/image  already exists\n",
            "Directory  ./data/scenario_3/picture_9  already exists\n",
            "Directory  ./data/scenario_3/picture_9/image  already exists\n",
            "Directory  ./data/scenario_3/picture_10  already exists\n",
            "Directory  ./data/scenario_3/picture_10/image  already exists\n"
          ]
        }
      ]
    },
    {
      "cell_type": "markdown",
      "source": [
        "# Importing and running utterance generator on a scenario #"
      ],
      "metadata": {
        "id": "dArjHc1e18wy"
      }
    },
    {
      "cell_type": "code",
      "source": [
        "import utterance_generator"
      ],
      "metadata": {
        "id": "WNpOPFM817mP"
      },
      "execution_count": 7,
      "outputs": []
    },
    {
      "cell_type": "code",
      "source": [
        "utterances = utterance_generator.narrate_scenario('./photobook-generation/data/scenario_1/')\n",
        "\n",
        "for key, utterance in utterances.items():\n",
        "  print(utterance)"
      ],
      "metadata": {
        "colab": {
          "base_uri": "https://localhost:8080/"
        },
        "id": "VYMrE_ve2FHR",
        "outputId": "25238dad-acd6-419f-b6b7-c5db3a34a811"
      },
      "execution_count": 8,
      "outputs": [
        {
          "output_type": "stream",
          "name": "stdout",
          "text": [
            "Here is Phoebe. Oh, and... Here's Carol! By the way, Carol works with Susan Bunch.\n",
            "Here's Jill. Jill is Sandra Green's mother.\n",
            "Look, here's Judy. Oh, have I mentioned, Judy is Jack Geller's wife.\n",
            "Here is Estelle. Oh, and... Here's Chandler M Bing. Chandler is Nora Tyler Bing's mother, and also, he is Janice Litman Goralnik's partner.\n",
            "Here he is again. By the way, Paul is my boyfriend.\n",
            "Here you see Emily. Emily is a sister of Emma Waltham.\n",
            "Here is Emily. Oh, and... Look, here's Ben. Ben is Carol Willick's mother.\n",
            "Here is a picture of Susan. Also... This picture shows Judy Geller. Oh, have I mentioned, Judy is Jack Geller's wife.\n",
            "Here is Amy. Oh, and... Look, here's Judy Geller. Oh, have I mentioned, Judy is Jack Geller's wife.\n",
            "This picture shows Estelle. By the way, Estelle is Mike Turner's wife.\n"
          ]
        }
      ]
    },
    {
      "cell_type": "markdown",
      "source": [
        "# Other uses of utterance generator toolkit by example #"
      ],
      "metadata": {
        "id": "V5hh1wMj3GWa"
      }
    },
    {
      "cell_type": "markdown",
      "source": [
        "## Basic operations and functionality ##"
      ],
      "metadata": {
        "id": "yOBplzeq3Y6C"
      }
    },
    {
      "cell_type": "code",
      "metadata": {
        "id": "Gv9Xcyh8uJiL",
        "colab": {
          "base_uri": "https://localhost:8080/"
        },
        "outputId": "9bb7b75e-8b14-462a-86f8-42ac7e37058b"
      },
      "source": [
        "import json\n",
        "pic1 = json.load(open('photobook-generation/data/scenario_1/picture_1/picture_1.json'))\n",
        "persons = [utterance_generator.process_person_dict(pic1['context']['persons'][0])]\n",
        "print(persons)"
      ],
      "execution_count": 9,
      "outputs": [
        {
          "output_type": "stream",
          "name": "stdout",
          "text": [
            "[Person Emily Waltham]\n"
          ]
        }
      ]
    },
    {
      "cell_type": "code",
      "metadata": {
        "colab": {
          "base_uri": "https://localhost:8080/"
        },
        "id": "S9ooh6zaHRhZ",
        "outputId": "17608b70-199c-4e4e-eda5-22214cf7425e"
      },
      "source": [
        "emily = persons[0]\n",
        "emily"
      ],
      "execution_count": 10,
      "outputs": [
        {
          "output_type": "execute_result",
          "data": {
            "text/plain": [
              "Person Emily Waltham"
            ]
          },
          "metadata": {},
          "execution_count": 10
        }
      ]
    },
    {
      "cell_type": "code",
      "metadata": {
        "colab": {
          "base_uri": "https://localhost:8080/"
        },
        "id": "so-I30wJJnHZ",
        "outputId": "c67ce611-788c-46bd-f858-4b6882b622d0"
      },
      "source": [
        "emily.relations[1].elem2.data"
      ],
      "execution_count": 11,
      "outputs": [
        {
          "output_type": "execute_result",
          "data": {
            "text/plain": [
              "{'full_name': 'Emma Waltham'}"
            ]
          },
          "metadata": {},
          "execution_count": 11
        }
      ]
    },
    {
      "cell_type": "code",
      "metadata": {
        "id": "OLzMM8gXHW1o"
      },
      "source": [
        "emma = utterance_generator.Person('Emma Waltham')\n",
        "emma.data['sex_or_gender'] = 'female'"
      ],
      "execution_count": 12,
      "outputs": []
    },
    {
      "cell_type": "code",
      "metadata": {
        "id": "c6TGMQn3JDsD"
      },
      "source": [
        "emma.relations = [utterance_generator.Relation(emily, 'sibling', utterance_generator.Person('Emily Waltham'))]"
      ],
      "execution_count": 13,
      "outputs": []
    },
    {
      "cell_type": "code",
      "metadata": {
        "colab": {
          "base_uri": "https://localhost:8080/"
        },
        "id": "uWg_-ovPJcpI",
        "outputId": "1de201d2-cc04-40d3-a6b3-89f3a6786b61"
      },
      "source": [
        "emma.relations[0].elem2.data"
      ],
      "execution_count": 14,
      "outputs": [
        {
          "output_type": "execute_result",
          "data": {
            "text/plain": [
              "{'full_name': 'Emily Waltham'}"
            ]
          },
          "metadata": {},
          "execution_count": 14
        }
      ]
    },
    {
      "cell_type": "code",
      "metadata": {
        "id": "06kRythzHfHm"
      },
      "source": [
        "persons_integrated = utterance_generator.integrate_person(persons, emma)"
      ],
      "execution_count": 15,
      "outputs": []
    },
    {
      "cell_type": "code",
      "metadata": {
        "colab": {
          "base_uri": "https://localhost:8080/"
        },
        "id": "A98CuYpTATDb",
        "outputId": "36883ab6-97e8-4ccf-a310-54f2cc855854"
      },
      "source": [
        "emily.relations[1].elem2.data"
      ],
      "execution_count": 16,
      "outputs": [
        {
          "output_type": "execute_result",
          "data": {
            "text/plain": [
              "{'full_name': 'Emma Waltham', 'sex_or_gender': 'female'}"
            ]
          },
          "metadata": {},
          "execution_count": 16
        }
      ]
    },
    {
      "cell_type": "code",
      "metadata": {
        "colab": {
          "base_uri": "https://localhost:8080/"
        },
        "id": "E0cjoU1dJvDA",
        "outputId": "d37106ef-7821-411c-bb81-2615d269dba5"
      },
      "source": [
        "emma.relations[0].elem2.data"
      ],
      "execution_count": 17,
      "outputs": [
        {
          "output_type": "execute_result",
          "data": {
            "text/plain": [
              "{'full_name': 'Emily Waltham', 'name': ['Emily'], 'sex_or_gender': 'female'}"
            ]
          },
          "metadata": {},
          "execution_count": 17
        }
      ]
    },
    {
      "cell_type": "markdown",
      "source": [
        "## Manually constructing and querying a generator ##"
      ],
      "metadata": {
        "id": "urxfXTc53x3x"
      }
    },
    {
      "cell_type": "code",
      "metadata": {
        "id": "xsQ8xlOJ9qXL"
      },
      "source": [
        "s1gen = utterance_generator.process_scenario('./photobook-generation/data/scenario_1/')"
      ],
      "execution_count": 18,
      "outputs": []
    },
    {
      "cell_type": "code",
      "metadata": {
        "colab": {
          "base_uri": "https://localhost:8080/"
        },
        "id": "hloVWX8b__t8",
        "outputId": "2d609f27-4a59-43e8-81df-a14b5dcf9c07"
      },
      "source": [
        "s1gen.persons[0]"
      ],
      "execution_count": 19,
      "outputs": [
        {
          "output_type": "execute_result",
          "data": {
            "text/plain": [
              "Person Carol Hay"
            ]
          },
          "metadata": {},
          "execution_count": 19
        }
      ]
    },
    {
      "cell_type": "code",
      "metadata": {
        "colab": {
          "base_uri": "https://localhost:8080/"
        },
        "id": "301eyK7ZAEdb",
        "outputId": "ae807599-4b12-42bf-edf2-be0f36067eae"
      },
      "source": [
        "s1gen.persons"
      ],
      "execution_count": 20,
      "outputs": [
        {
          "output_type": "execute_result",
          "data": {
            "text/plain": [
              "[Person Carol Hay,\n",
              " Person Phoebe Buffay,\n",
              " Person Jill Green,\n",
              " Person Judy Geller,\n",
              " Person Estelle Leonard,\n",
              " Person Chandler M Bing,\n",
              " Person Paul Stevens,\n",
              " Person Emily Waltham,\n",
              " Person Emily Waltham,\n",
              " Person Ben Geller-Willick-Bunch,\n",
              " Person Judy Geller,\n",
              " Person Susan Bunch,\n",
              " Person Judy Geller,\n",
              " Person Amy Green,\n",
              " Person Estelle Leonard]"
            ]
          },
          "metadata": {},
          "execution_count": 20
        }
      ]
    },
    {
      "cell_type": "code",
      "source": [
        "s1gen.generate_random_utterance(utterance_generator.Template([]), person=s1gen.persons[0])"
      ],
      "metadata": {
        "colab": {
          "base_uri": "https://localhost:8080/",
          "height": 53
        },
        "id": "qdcNU7ty3_Ls",
        "outputId": "d44366ee-de6c-4fb2-9e2e-fb10590f47f9"
      },
      "execution_count": 21,
      "outputs": [
        {
          "output_type": "execute_result",
          "data": {
            "application/vnd.google.colaboratory.intrinsic+json": {
              "type": "string"
            },
            "text/plain": [
              "'Here you see Carol Hay. By the way, Carol is a colleague of Susan Bunch.'"
            ]
          },
          "metadata": {},
          "execution_count": 21
        }
      ]
    },
    {
      "cell_type": "code",
      "source": [
        "s1gen.generate_random_utterance(utterance_generator.Template([]), persons=s1gen.persons[1:3], person=s1gen.persons[2])"
      ],
      "metadata": {
        "colab": {
          "base_uri": "https://localhost:8080/",
          "height": 54
        },
        "id": "NDtIwfHB5aBn",
        "outputId": "1f55201d-1cbe-40b2-a9cf-d28b2ba9b54f"
      },
      "execution_count": 22,
      "outputs": [
        {
          "output_type": "execute_result",
          "data": {
            "application/vnd.google.colaboratory.intrinsic+json": {
              "type": "string"
            },
            "text/plain": [
              "\"Here is a picture of Phoebe. Also... Here's Jill! By the way, Jill is my's sister.\""
            ]
          },
          "metadata": {},
          "execution_count": 22
        }
      ]
    },
    {
      "cell_type": "code",
      "source": [
        "s1gen.generate_random_utterance(utterance_generator.Template([]), persons=s1gen.persons[:-3], person=s1gen.persons[-3], facts_to_mention=2)"
      ],
      "metadata": {
        "colab": {
          "base_uri": "https://localhost:8080/",
          "height": 72
        },
        "id": "rlnPpaMk5lIB",
        "outputId": "90d440b3-a35f-4e75-95c2-f210badd65f4"
      },
      "execution_count": 23,
      "outputs": [
        {
          "output_type": "execute_result",
          "data": {
            "application/vnd.google.colaboratory.intrinsic+json": {
              "type": "string"
            },
            "text/plain": [
              "\"Here you can see Carol, Emily, Estelle, Ben, Susan, Jill, Phoebe, Paul, Emily, Chandler. Here you see Judy Geller. Oh, have I mentioned, Judy is Jack Geller's wife.\""
            ]
          },
          "metadata": {},
          "execution_count": 23
        }
      ]
    }
  ]
}